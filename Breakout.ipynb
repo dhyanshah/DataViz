{
 "cells": [
  {
   "cell_type": "code",
   "execution_count": 2,
   "metadata": {},
   "outputs": [],
   "source": [
    "import altair as alt\n",
    "# alt.renderers.enable('notebook')\n",
    "import pandas as pd\n",
    "import numpy as np"
   ]
  },
  {
   "cell_type": "code",
   "execution_count": 8,
   "metadata": {},
   "outputs": [
    {
     "data": {
      "text/html": [
       "<div>\n",
       "<style scoped>\n",
       "    .dataframe tbody tr th:only-of-type {\n",
       "        vertical-align: middle;\n",
       "    }\n",
       "\n",
       "    .dataframe tbody tr th {\n",
       "        vertical-align: top;\n",
       "    }\n",
       "\n",
       "    .dataframe thead th {\n",
       "        text-align: right;\n",
       "    }\n",
       "</style>\n",
       "<table border=\"1\" class=\"dataframe\">\n",
       "  <thead>\n",
       "    <tr style=\"text-align: right;\">\n",
       "      <th></th>\n",
       "      <th>YEAR</th>\n",
       "      <th>Total</th>\n",
       "      <th>Organic</th>\n",
       "      <th>Referral</th>\n",
       "    </tr>\n",
       "  </thead>\n",
       "  <tbody>\n",
       "    <tr>\n",
       "      <td>0</td>\n",
       "      <td>2005</td>\n",
       "      <td>0.087</td>\n",
       "      <td>0.033</td>\n",
       "      <td>0.054</td>\n",
       "    </tr>\n",
       "    <tr>\n",
       "      <td>1</td>\n",
       "      <td>2006</td>\n",
       "      <td>0.083</td>\n",
       "      <td>0.035</td>\n",
       "      <td>0.048</td>\n",
       "    </tr>\n",
       "    <tr>\n",
       "      <td>2</td>\n",
       "      <td>2007</td>\n",
       "      <td>0.086</td>\n",
       "      <td>0.037</td>\n",
       "      <td>0.049</td>\n",
       "    </tr>\n",
       "    <tr>\n",
       "      <td>3</td>\n",
       "      <td>2008</td>\n",
       "      <td>0.089</td>\n",
       "      <td>0.036</td>\n",
       "      <td>0.053</td>\n",
       "    </tr>\n",
       "    <tr>\n",
       "      <td>4</td>\n",
       "      <td>2009</td>\n",
       "      <td>0.084</td>\n",
       "      <td>0.034</td>\n",
       "      <td>0.050</td>\n",
       "    </tr>\n",
       "  </tbody>\n",
       "</table>\n",
       "</div>"
      ],
      "text/plain": [
       "   YEAR  Total  Organic  Referral\n",
       "0  2005  0.087    0.033     0.054\n",
       "1  2006  0.083    0.035     0.048\n",
       "2  2007  0.086    0.037     0.049\n",
       "3  2008  0.089    0.036     0.053\n",
       "4  2009  0.084    0.034     0.050"
      ]
     },
     "execution_count": 8,
     "metadata": {},
     "output_type": "execute_result"
    }
   ],
   "source": [
    "df = pd.read_excel(\"/Users/Dhyan/Data_Visualization/cbaviz.xlsx\", header = [1], skipinitialspace=True)\n",
    "df.head()"
   ]
  },
  {
   "cell_type": "code",
   "execution_count": 19,
   "metadata": {},
   "outputs": [
    {
     "data": {
      "application/vnd.vegalite.v3+json": {
       "$schema": "https://vega.github.io/schema/vega-lite/v3.4.0.json",
       "config": {
        "mark": {
         "tooltip": null
        },
        "view": {
         "height": 300,
         "width": 400
        }
       },
       "data": {
        "name": "data-da8099b3a927d9446a6ff1b6e8dea011"
       },
       "datasets": {
        "data-da8099b3a927d9446a6ff1b6e8dea011": [
         {
          "Organic": 0.033,
          "Referral": 0.054,
          "Total": 0.087,
          "YEAR": 2005
         },
         {
          "Organic": 0.035,
          "Referral": 0.048,
          "Total": 0.083,
          "YEAR": 2006
         },
         {
          "Organic": 0.037,
          "Referral": 0.049,
          "Total": 0.086,
          "YEAR": 2007
         },
         {
          "Organic": 0.036,
          "Referral": 0.053,
          "Total": 0.089,
          "YEAR": 2008
         },
         {
          "Organic": 0.034,
          "Referral": 0.05,
          "Total": 0.084,
          "YEAR": 2009
         },
         {
          "Organic": 0.031,
          "Referral": 0.055,
          "Total": 0.086,
          "YEAR": 2010
         },
         {
          "Organic": 0.032,
          "Referral": 0.043,
          "Total": 0.075,
          "YEAR": 2011
         },
         {
          "Organic": 0.035,
          "Referral": 0.037,
          "Total": 0.07200000000000001,
          "YEAR": 2012
         },
         {
          "Organic": 0.032,
          "Referral": 0.037,
          "Total": 0.069,
          "YEAR": 2013
         },
         {
          "Organic": 0.038,
          "Referral": 0.036,
          "Total": 0.074,
          "YEAR": 2014
         },
         {
          "Organic": 0.035,
          "Referral": 0.031,
          "Total": 0.066,
          "YEAR": 2015
         },
         {
          "Organic": 0.045,
          "Referral": 0.035,
          "Total": 0.08,
          "YEAR": 2016
         },
         {
          "Organic": 0.041,
          "Referral": 0.032,
          "Total": 0.07300000000000001,
          "YEAR": 2017
         },
         {
          "Organic": 0.042,
          "Referral": 0.028,
          "Total": 0.07,
          "YEAR": 2018
         },
         {
          "Organic": 0.038,
          "Referral": 0.025,
          "Total": 0.063,
          "YEAR": 2019
         }
        ]
       },
       "encoding": {
        "size": {
         "field": "Total",
         "type": "quantitative"
        },
        "x": {
         "field": "YEAR",
         "type": "temporal"
        },
        "y": {
         "field": "Total",
         "type": "quantitative"
        }
       },
       "mark": "trail"
      },
      "image/png": "[encoded data removed]",
      "text/plain": [
       "<VegaLite 3 object>\n",
       "\n",
       "If you see this message, it means the renderer has not been properly enabled\n",
       "for the frontend that you are using. For more information, see\n",
       "https://altair-viz.github.io/user_guide/troubleshooting.html\n"
      ]
     },
     "execution_count": 19,
     "metadata": {},
     "output_type": "execute_result"
    }
   ],
   "source": [
    "source = df\n",
    "\n",
    "alt.Chart(source).mark_trail().encode(\n",
    "    x='YEAR:T',\n",
    "    y='Total:Q',\n",
    "    size='Total:Q'\n",
    ")"
   ]
  },
  {
   "cell_type": "code",
   "execution_count": 40,
   "metadata": {},
   "outputs": [
    {
     "data": {
      "application/vnd.vegalite.v3+json": {
       "$schema": "https://vega.github.io/schema/vega-lite/v3.4.0.json",
       "config": {
        "mark": {
         "tooltip": null
        },
        "view": {
         "height": 300,
         "width": 400
        }
       },
       "data": {
        "name": "data-da8099b3a927d9446a6ff1b6e8dea011"
       },
       "datasets": {
        "data-da8099b3a927d9446a6ff1b6e8dea011": [
         {
          "Organic": 0.033,
          "Referral": 0.054,
          "Total": 0.087,
          "YEAR": 2005
         },
         {
          "Organic": 0.035,
          "Referral": 0.048,
          "Total": 0.083,
          "YEAR": 2006
         },
         {
          "Organic": 0.037,
          "Referral": 0.049,
          "Total": 0.086,
          "YEAR": 2007
         },
         {
          "Organic": 0.036,
          "Referral": 0.053,
          "Total": 0.089,
          "YEAR": 2008
         },
         {
          "Organic": 0.034,
          "Referral": 0.05,
          "Total": 0.084,
          "YEAR": 2009
         },
         {
          "Organic": 0.031,
          "Referral": 0.055,
          "Total": 0.086,
          "YEAR": 2010
         },
         {
          "Organic": 0.032,
          "Referral": 0.043,
          "Total": 0.075,
          "YEAR": 2011
         },
         {
          "Organic": 0.035,
          "Referral": 0.037,
          "Total": 0.07200000000000001,
          "YEAR": 2012
         },
         {
          "Organic": 0.032,
          "Referral": 0.037,
          "Total": 0.069,
          "YEAR": 2013
         },
         {
          "Organic": 0.038,
          "Referral": 0.036,
          "Total": 0.074,
          "YEAR": 2014
         },
         {
          "Organic": 0.035,
          "Referral": 0.031,
          "Total": 0.066,
          "YEAR": 2015
         },
         {
          "Organic": 0.045,
          "Referral": 0.035,
          "Total": 0.08,
          "YEAR": 2016
         },
         {
          "Organic": 0.041,
          "Referral": 0.032,
          "Total": 0.07300000000000001,
          "YEAR": 2017
         },
         {
          "Organic": 0.042,
          "Referral": 0.028,
          "Total": 0.07,
          "YEAR": 2018
         },
         {
          "Organic": 0.038,
          "Referral": 0.025,
          "Total": 0.063,
          "YEAR": 2019
         }
        ]
       },
       "encoding": {
        "color": {
         "field": "key",
         "type": "nominal"
        },
        "x": {
         "field": "YEAR",
         "type": "ordinal"
        },
        "y": {
         "field": "value",
         "type": "quantitative"
        }
       },
       "mark": "bar",
       "transform": [
        {
         "fold": [
          "Referral",
          "Organic"
         ]
        }
       ]
      },
      "image/png": "[encoded data removed]",
      "text/plain": [
       "<VegaLite 3 object>\n",
       "\n",
       "If you see this message, it means the renderer has not been properly enabled\n",
       "for the frontend that you are using. For more information, see\n",
       "https://altair-viz.github.io/user_guide/troubleshooting.html\n"
      ]
     },
     "execution_count": 40,
     "metadata": {},
     "output_type": "execute_result"
    }
   ],
   "source": [
    "source = df\n",
    "\n",
    "\n",
    "domain=['Organic','Referral']\n",
    "range_=['#c1d5f5','#2434e0']\n",
    "\n",
    "alt.Chart(source).transform_fold(\n",
    "    ['Referral', 'Organic']\n",
    ").mark_bar().encode(\n",
    "    x='YEAR:O',\n",
    "    y='value:Q',\n",
    "    color='key:N'\n",
    ")"
   ]
  },
  {
   "cell_type": "code",
   "execution_count": null,
   "metadata": {},
   "outputs": [],
   "source": []
  },
  {
   "cell_type": "code",
   "execution_count": null,
   "metadata": {},
   "outputs": [],
   "source": []
  },
  {
   "cell_type": "code",
   "execution_count": null,
   "metadata": {},
   "outputs": [],
   "source": []
  }
 ],
 "metadata": {
  "kernelspec": {
   "display_name": "Python 3",
   "language": "python",
   "name": "python3"
  },
  "language_info": {
   "codemirror_mode": {
    "name": "ipython",
    "version": 3
   },
   "file_extension": ".py",
   "mimetype": "text/x-python",
   "name": "python",
   "nbconvert_exporter": "python",
   "pygments_lexer": "ipython3",
   "version": "3.7.4"
  }
 },
 "nbformat": 4,
 "nbformat_minor": 4
}
