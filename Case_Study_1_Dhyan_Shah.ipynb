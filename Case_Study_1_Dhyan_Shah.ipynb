{
 "cells": [
  {
   "cell_type": "code",
   "execution_count": 112,
   "metadata": {},
   "outputs": [],
   "source": [
    "import altair as alt\n",
    "# alt.renderers.enable('notebook')\n",
    "import pandas as pd\n",
    "import numpy as np\n",
    "import sweetviz as sv"
   ]
  },
  {
   "cell_type": "code",
   "execution_count": 113,
   "metadata": {},
   "outputs": [
    {
     "data": {
      "text/html": [
       "<div>\n",
       "<style scoped>\n",
       "    .dataframe tbody tr th:only-of-type {\n",
       "        vertical-align: middle;\n",
       "    }\n",
       "\n",
       "    .dataframe tbody tr th {\n",
       "        vertical-align: top;\n",
       "    }\n",
       "\n",
       "    .dataframe thead th {\n",
       "        text-align: right;\n",
       "    }\n",
       "</style>\n",
       "<table border=\"1\" class=\"dataframe\">\n",
       "  <thead>\n",
       "    <tr style=\"text-align: right;\">\n",
       "      <th></th>\n",
       "      <th>Date</th>\n",
       "      <th>Year</th>\n",
       "      <th>Month</th>\n",
       "      <th>Phone_Touchpoints</th>\n",
       "      <th>Chat_Touchpoints</th>\n",
       "      <th>Email_Touchpoints</th>\n",
       "      <th>Total</th>\n",
       "    </tr>\n",
       "  </thead>\n",
       "  <tbody>\n",
       "    <tr>\n",
       "      <th>0</th>\n",
       "      <td>2018-01</td>\n",
       "      <td>2018</td>\n",
       "      <td>Jan</td>\n",
       "      <td>0.43</td>\n",
       "      <td>0.13</td>\n",
       "      <td>0.55</td>\n",
       "      <td>1.11</td>\n",
       "    </tr>\n",
       "    <tr>\n",
       "      <th>1</th>\n",
       "      <td>2018-01</td>\n",
       "      <td>2018</td>\n",
       "      <td>Jan</td>\n",
       "      <td>0.35</td>\n",
       "      <td>0.11</td>\n",
       "      <td>0.38</td>\n",
       "      <td>0.84</td>\n",
       "    </tr>\n",
       "    <tr>\n",
       "      <th>2</th>\n",
       "      <td>2018-01</td>\n",
       "      <td>2018</td>\n",
       "      <td>Jan</td>\n",
       "      <td>0.34</td>\n",
       "      <td>0.11</td>\n",
       "      <td>0.38</td>\n",
       "      <td>0.83</td>\n",
       "    </tr>\n",
       "    <tr>\n",
       "      <th>3</th>\n",
       "      <td>2018-01</td>\n",
       "      <td>2018</td>\n",
       "      <td>Jan</td>\n",
       "      <td>0.24</td>\n",
       "      <td>0.18</td>\n",
       "      <td>0.30</td>\n",
       "      <td>0.72</td>\n",
       "    </tr>\n",
       "    <tr>\n",
       "      <th>4</th>\n",
       "      <td>2018-05</td>\n",
       "      <td>2018</td>\n",
       "      <td>May</td>\n",
       "      <td>0.23</td>\n",
       "      <td>0.17</td>\n",
       "      <td>0.28</td>\n",
       "      <td>0.68</td>\n",
       "    </tr>\n",
       "  </tbody>\n",
       "</table>\n",
       "</div>"
      ],
      "text/plain": [
       "      Date  Year Month  Phone_Touchpoints  Chat_Touchpoints  \\\n",
       "0  2018-01  2018   Jan               0.43              0.13   \n",
       "1  2018-01  2018   Jan               0.35              0.11   \n",
       "2  2018-01  2018   Jan               0.34              0.11   \n",
       "3  2018-01  2018   Jan               0.24              0.18   \n",
       "4  2018-05  2018   May               0.23              0.17   \n",
       "\n",
       "   Email_Touchpoints  Total  \n",
       "0               0.55   1.11  \n",
       "1               0.38   0.84  \n",
       "2               0.38   0.83  \n",
       "3               0.30   0.72  \n",
       "4               0.28   0.68  "
      ]
     },
     "execution_count": 113,
     "metadata": {},
     "output_type": "execute_result"
    }
   ],
   "source": [
    "df = pd.read_excel(\"/Users/Dhyan/Data_Visualization/CaseStudy_1/CS3_Cust_Touchpoint.xlsx\", header = [0], skipinitialspace=True)\n",
    "df.head()"
   ]
  },
  {
   "cell_type": "code",
   "execution_count": 114,
   "metadata": {},
   "outputs": [
    {
     "data": {
      "application/vnd.vegalite.v3+json": {
       "$schema": "https://vega.github.io/schema/vega-lite/v3.4.0.json",
       "config": {
        "mark": {
         "tooltip": null
        },
        "view": {
         "height": 300,
         "width": 400
        }
       },
       "data": {
        "name": "data-272919fef3148d7a32417a8bc7cf3361"
       },
       "datasets": {
        "data-272919fef3148d7a32417a8bc7cf3361": [
         {
          "Chat_Touchpoints": 0.13,
          "Date": "2018-01",
          "Email_Touchpoints": 0.55,
          "Month": "Jan",
          "Phone_Touchpoints": 0.43000000000000005,
          "Total": 1.11,
          "Year": 2018
         },
         {
          "Chat_Touchpoints": 0.11,
          "Date": "2018-01",
          "Email_Touchpoints": 0.38,
          "Month": "Jan",
          "Phone_Touchpoints": 0.35,
          "Total": 0.84,
          "Year": 2018
         },
         {
          "Chat_Touchpoints": 0.11,
          "Date": "2018-01",
          "Email_Touchpoints": 0.38,
          "Month": "Jan",
          "Phone_Touchpoints": 0.33999999999999997,
          "Total": 0.83,
          "Year": 2018
         },
         {
          "Chat_Touchpoints": 0.18,
          "Date": "2018-01",
          "Email_Touchpoints": 0.30000000000000004,
          "Month": "Jan",
          "Phone_Touchpoints": 0.24,
          "Total": 0.72,
          "Year": 2018
         },
         {
          "Chat_Touchpoints": 0.17,
          "Date": "2018-05",
          "Email_Touchpoints": 0.28,
          "Month": "May",
          "Phone_Touchpoints": 0.23,
          "Total": 0.68,
          "Year": 2018
         },
         {
          "Chat_Touchpoints": 0.17,
          "Date": "2018-05",
          "Email_Touchpoints": 0.29000000000000004,
          "Month": "May",
          "Phone_Touchpoints": 0.29000000000000004,
          "Total": 0.7500000000000001,
          "Year": 2018
         },
         {
          "Chat_Touchpoints": 0.14,
          "Date": "2018-05",
          "Email_Touchpoints": 0.30000000000000004,
          "Month": "May",
          "Phone_Touchpoints": 0.28,
          "Total": 0.7200000000000001,
          "Year": 2018
         },
         {
          "Chat_Touchpoints": 0.14,
          "Date": "2018-05",
          "Email_Touchpoints": 0.35,
          "Month": "May",
          "Phone_Touchpoints": 0.30000000000000004,
          "Total": 0.79,
          "Year": 2018
         },
         {
          "Chat_Touchpoints": 0.11,
          "Date": "2018-05",
          "Email_Touchpoints": 0.31999999999999995,
          "Month": "May",
          "Phone_Touchpoints": 0.30000000000000004,
          "Total": 0.73,
          "Year": 2018
         },
         {
          "Chat_Touchpoints": 0.12,
          "Date": "2018-10",
          "Email_Touchpoints": 0.31000000000000005,
          "Month": "Oct",
          "Phone_Touchpoints": 0.29000000000000004,
          "Total": 0.7200000000000001,
          "Year": 2018
         },
         {
          "Chat_Touchpoints": 0.11,
          "Date": "2018-10",
          "Email_Touchpoints": 0.41000000000000003,
          "Month": "Oct",
          "Phone_Touchpoints": 0.29000000000000004,
          "Total": 0.81,
          "Year": 2018
         },
         {
          "Chat_Touchpoints": 0.15,
          "Date": "2018-10",
          "Email_Touchpoints": 0.54,
          "Month": "Oct",
          "Phone_Touchpoints": 0.38,
          "Total": 1.07,
          "Year": 2018
         },
         {
          "Chat_Touchpoints": 0.16,
          "Date": "2018-10",
          "Email_Touchpoints": 0.5800000000000001,
          "Month": "Oct",
          "Phone_Touchpoints": 0.44999999999999996,
          "Total": 1.19,
          "Year": 2018
         },
         {
          "Chat_Touchpoints": 0.13,
          "Date": "2018-10",
          "Email_Touchpoints": 0.38,
          "Month": "Oct",
          "Phone_Touchpoints": 0.31999999999999995,
          "Total": 0.83,
          "Year": 2018
         },
         {
          "Chat_Touchpoints": 0.13,
          "Date": "2019-03",
          "Email_Touchpoints": 0.38,
          "Month": "Mar",
          "Phone_Touchpoints": 0.31000000000000005,
          "Total": 0.8200000000000001,
          "Year": 2019
         },
         {
          "Chat_Touchpoints": 0.15,
          "Date": "2019-03",
          "Email_Touchpoints": 0.33999999999999997,
          "Month": "Mar",
          "Phone_Touchpoints": 0.25,
          "Total": 0.74,
          "Year": 2019
         },
         {
          "Chat_Touchpoints": 0.2,
          "Date": "2019-03",
          "Email_Touchpoints": 0.33999999999999997,
          "Month": "Mar",
          "Phone_Touchpoints": 0.26,
          "Total": 0.8,
          "Year": 2019
         },
         {
          "Chat_Touchpoints": 0.2,
          "Date": "2019-03",
          "Email_Touchpoints": 0.33999999999999997,
          "Month": "Mar",
          "Phone_Touchpoints": 0.26,
          "Total": 0.8,
          "Year": 2019
         },
         {
          "Chat_Touchpoints": 0.15,
          "Date": "2019-03",
          "Email_Touchpoints": 0.33999999999999997,
          "Month": "Mar",
          "Phone_Touchpoints": 0.25,
          "Total": 0.74,
          "Year": 2019
         },
         {
          "Chat_Touchpoints": 0.16,
          "Date": "2018-08",
          "Email_Touchpoints": 0.32999999999999996,
          "Month": "Aug",
          "Phone_Touchpoints": 0.28,
          "Total": 0.77,
          "Year": 2018
         },
         {
          "Chat_Touchpoints": 0.17,
          "Date": "2018-08",
          "Email_Touchpoints": 0.31999999999999995,
          "Month": "Aug",
          "Phone_Touchpoints": 0.24,
          "Total": 0.73,
          "Year": 2018
         },
         {
          "Chat_Touchpoints": 0.17,
          "Date": "2018-08",
          "Email_Touchpoints": 0.33999999999999997,
          "Month": "Aug",
          "Phone_Touchpoints": 0.24,
          "Total": 0.75,
          "Year": 2018
         },
         {
          "Chat_Touchpoints": 0.18,
          "Date": "2018-08",
          "Email_Touchpoints": 0.36,
          "Month": "Aug",
          "Phone_Touchpoints": 0.25,
          "Total": 0.79,
          "Year": 2018
         },
         {
          "Chat_Touchpoints": 0.18,
          "Date": "2018-08",
          "Email_Touchpoints": 0.53,
          "Month": "Aug",
          "Phone_Touchpoints": 0.32999999999999996,
          "Total": 1.04,
          "Year": 2018
         },
         {
          "Chat_Touchpoints": 0.26,
          "Date": "2020-01",
          "Email_Touchpoints": 0.5,
          "Month": "Jan",
          "Phone_Touchpoints": 0.34,
          "Total": 1.1,
          "Year": 2020
         }
        ]
       },
       "encoding": {
        "color": {
         "field": "Month",
         "type": "nominal"
        },
        "x": {
         "field": "Date",
         "type": "nominal"
        },
        "y": {
         "field": "Total",
         "scale": {
          "clamp": true,
          "domain": [
           0.6,
           1.2
          ]
         },
         "type": "quantitative"
        }
       },
       "mark": "point"
      },
      "image/png": "[encoded data removed]",
      "text/plain": [
       "<VegaLite 3 object>\n",
       "\n",
       "If you see this message, it means the renderer has not been properly enabled\n",
       "for the frontend that you are using. For more information, see\n",
       "https://altair-viz.github.io/user_guide/troubleshooting.html\n"
      ]
     },
     "execution_count": 114,
     "metadata": {},
     "output_type": "execute_result"
    }
   ],
   "source": [
    "alt.Chart(df).mark_point().encode(\n",
    "    x=alt.X('Date'),\n",
    "    y=alt.Y('Total:Q', scale=alt.Scale(domain=(0.6, 1.2), clamp=True)),\n",
    "    color=('Month')\n",
    ")\n"
   ]
  },
  {
   "cell_type": "code",
   "execution_count": 121,
   "metadata": {},
   "outputs": [
    {
     "data": {
      "application/vnd.vegalite.v3+json": {
       "$schema": "https://vega.github.io/schema/vega-lite/v3.4.0.json",
       "config": {
        "mark": {
         "tooltip": null
        },
        "view": {
         "height": 300,
         "width": 400
        }
       },
       "data": {
        "name": "data-c2cd2299299a76ab39399dd76edf1055"
       },
       "datasets": {
        "data-c2cd2299299a76ab39399dd76edf1055": [
         {
          "Chat_TouchPoints": 0.13,
          "Date": "2018-01",
          "Email_TouchPoints": 0.55,
          "Month": "Jan",
          "Phone_TouchPoints": 0.43000000000000005,
          "Total": 1.11,
          "Year": 2018
         },
         {
          "Chat_TouchPoints": 0.11,
          "Date": "2018-01",
          "Email_TouchPoints": 0.38,
          "Month": "Jan",
          "Phone_TouchPoints": 0.35,
          "Total": 0.84,
          "Year": 2018
         },
         {
          "Chat_TouchPoints": 0.11,
          "Date": "2018-01",
          "Email_TouchPoints": 0.38,
          "Month": "Jan",
          "Phone_TouchPoints": 0.33999999999999997,
          "Total": 0.83,
          "Year": 2018
         },
         {
          "Chat_TouchPoints": 0.18,
          "Date": "2018-01",
          "Email_TouchPoints": 0.30000000000000004,
          "Month": "Jan",
          "Phone_TouchPoints": 0.24,
          "Total": 0.72,
          "Year": 2018
         },
         {
          "Chat_TouchPoints": 0.17,
          "Date": "2018-05",
          "Email_TouchPoints": 0.28,
          "Month": "May",
          "Phone_TouchPoints": 0.23,
          "Total": 0.68,
          "Year": 2018
         },
         {
          "Chat_TouchPoints": 0.17,
          "Date": "2018-05",
          "Email_TouchPoints": 0.29000000000000004,
          "Month": "May",
          "Phone_TouchPoints": 0.29000000000000004,
          "Total": 0.7500000000000001,
          "Year": 2018
         },
         {
          "Chat_TouchPoints": 0.14,
          "Date": "2018-05",
          "Email_TouchPoints": 0.30000000000000004,
          "Month": "May",
          "Phone_TouchPoints": 0.28,
          "Total": 0.7200000000000001,
          "Year": 2018
         },
         {
          "Chat_TouchPoints": 0.14,
          "Date": "2018-05",
          "Email_TouchPoints": 0.35,
          "Month": "May",
          "Phone_TouchPoints": 0.30000000000000004,
          "Total": 0.79,
          "Year": 2018
         },
         {
          "Chat_TouchPoints": 0.11,
          "Date": "2018-05",
          "Email_TouchPoints": 0.31999999999999995,
          "Month": "May",
          "Phone_TouchPoints": 0.30000000000000004,
          "Total": 0.73,
          "Year": 2018
         },
         {
          "Chat_TouchPoints": 0.12,
          "Date": "2018-10",
          "Email_TouchPoints": 0.31000000000000005,
          "Month": "Oct",
          "Phone_TouchPoints": 0.29000000000000004,
          "Total": 0.7200000000000001,
          "Year": 2018
         },
         {
          "Chat_TouchPoints": 0.11,
          "Date": "2018-10",
          "Email_TouchPoints": 0.41000000000000003,
          "Month": "Oct",
          "Phone_TouchPoints": 0.29000000000000004,
          "Total": 0.81,
          "Year": 2018
         },
         {
          "Chat_TouchPoints": 0.15,
          "Date": "2018-10",
          "Email_TouchPoints": 0.54,
          "Month": "Oct",
          "Phone_TouchPoints": 0.38,
          "Total": 1.07,
          "Year": 2018
         },
         {
          "Chat_TouchPoints": 0.16,
          "Date": "2018-10",
          "Email_TouchPoints": 0.5800000000000001,
          "Month": "Oct",
          "Phone_TouchPoints": 0.44999999999999996,
          "Total": 1.19,
          "Year": 2018
         },
         {
          "Chat_TouchPoints": 0.13,
          "Date": "2018-10",
          "Email_TouchPoints": 0.38,
          "Month": "Oct",
          "Phone_TouchPoints": 0.31999999999999995,
          "Total": 0.83,
          "Year": 2018
         },
         {
          "Chat_TouchPoints": 0.13,
          "Date": "2019-03",
          "Email_TouchPoints": 0.38,
          "Month": "Mar",
          "Phone_TouchPoints": 0.31000000000000005,
          "Total": 0.8200000000000001,
          "Year": 2019
         },
         {
          "Chat_TouchPoints": 0.15,
          "Date": "2019-03",
          "Email_TouchPoints": 0.33999999999999997,
          "Month": "Mar",
          "Phone_TouchPoints": 0.25,
          "Total": 0.74,
          "Year": 2019
         },
         {
          "Chat_TouchPoints": 0.2,
          "Date": "2019-03",
          "Email_TouchPoints": 0.33999999999999997,
          "Month": "Mar",
          "Phone_TouchPoints": 0.26,
          "Total": 0.8,
          "Year": 2019
         },
         {
          "Chat_TouchPoints": 0.2,
          "Date": "2019-03",
          "Email_TouchPoints": 0.33999999999999997,
          "Month": "Mar",
          "Phone_TouchPoints": 0.26,
          "Total": 0.8,
          "Year": 2019
         },
         {
          "Chat_TouchPoints": 0.15,
          "Date": "2019-03",
          "Email_TouchPoints": 0.33999999999999997,
          "Month": "Mar",
          "Phone_TouchPoints": 0.25,
          "Total": 0.74,
          "Year": 2019
         },
         {
          "Chat_TouchPoints": 0.16,
          "Date": "2018-08",
          "Email_TouchPoints": 0.32999999999999996,
          "Month": "Aug",
          "Phone_TouchPoints": 0.28,
          "Total": 0.77,
          "Year": 2018
         },
         {
          "Chat_TouchPoints": 0.17,
          "Date": "2018-08",
          "Email_TouchPoints": 0.31999999999999995,
          "Month": "Aug",
          "Phone_TouchPoints": 0.24,
          "Total": 0.73,
          "Year": 2018
         },
         {
          "Chat_TouchPoints": 0.17,
          "Date": "2018-08",
          "Email_TouchPoints": 0.33999999999999997,
          "Month": "Aug",
          "Phone_TouchPoints": 0.24,
          "Total": 0.75,
          "Year": 2018
         },
         {
          "Chat_TouchPoints": 0.18,
          "Date": "2018-08",
          "Email_TouchPoints": 0.36,
          "Month": "Aug",
          "Phone_TouchPoints": 0.25,
          "Total": 0.79,
          "Year": 2018
         },
         {
          "Chat_TouchPoints": 0.18,
          "Date": "2018-08",
          "Email_TouchPoints": 0.53,
          "Month": "Aug",
          "Phone_TouchPoints": 0.32999999999999996,
          "Total": 1.04,
          "Year": 2018
         },
         {
          "Chat_TouchPoints": 0.26,
          "Date": "2020-01",
          "Email_TouchPoints": 0.5,
          "Month": "Jan",
          "Phone_TouchPoints": 0.34,
          "Total": 1.1,
          "Year": 2020
         }
        ]
       },
       "encoding": {
        "color": {
         "field": "key",
         "type": "nominal"
        },
        "x": {
         "field": "Date",
         "type": "temporal"
        },
        "y": {
         "aggregate": "average",
         "field": "value",
         "type": "quantitative"
        }
       },
       "mark": "line",
       "transform": [
        {
         "fold": [
          "Phone_TouchPoints",
          "Chat_TouchPoints",
          "Email_TouchPoints",
          "Total"
         ]
        }
       ]
      },
      "image/png": "[encoded data removed]",
      "text/plain": [
       "<VegaLite 3 object>\n",
       "\n",
       "If you see this message, it means the renderer has not been properly enabled\n",
       "for the frontend that you are using. For more information, see\n",
       "https://altair-viz.github.io/user_guide/troubleshooting.html\n"
      ]
     },
     "execution_count": 121,
     "metadata": {},
     "output_type": "execute_result"
    }
   ],
   "source": [
    "df.columns = ['Date','Year','Month', 'Phone_TouchPoints', 'Chat_TouchPoints', 'Email_TouchPoints', 'Total']\n",
    "\n",
    "#alt.data_transformers.enable('data_server')  # handle larger datasets\n",
    "\n",
    "alt.Chart(df).mark_line().transform_fold(\n",
    "    ['Phone_TouchPoints', 'Chat_TouchPoints', 'Email_TouchPoints','Total'],\n",
    ").encode(\n",
    "    x='Date:T',\n",
    "    y='average(value):Q',\n",
    "    color='key:N'\n",
    ")\n"
   ]
  },
  {
   "cell_type": "code",
   "execution_count": null,
   "metadata": {},
   "outputs": [],
   "source": []
  },
  {
   "cell_type": "code",
   "execution_count": 42,
   "metadata": {},
   "outputs": [
    {
     "data": {
      "application/vnd.vegalite.v3+json": {
       "$schema": "https://vega.github.io/schema/vega-lite/v3.4.0.json",
       "config": {
        "mark": {
         "tooltip": null
        },
        "view": {
         "height": 300,
         "width": 400
        }
       },
       "data": {
        "name": "data-c2cd2299299a76ab39399dd76edf1055"
       },
       "datasets": {
        "data-c2cd2299299a76ab39399dd76edf1055": [
         {
          "Chat_TouchPoints": 0.13,
          "Date": "2018-01",
          "Email_TouchPoints": 0.55,
          "Month": "Jan",
          "Phone_TouchPoints": 0.43000000000000005,
          "Total": 1.11,
          "Year": 2018
         },
         {
          "Chat_TouchPoints": 0.11,
          "Date": "2018-01",
          "Email_TouchPoints": 0.38,
          "Month": "Jan",
          "Phone_TouchPoints": 0.35,
          "Total": 0.84,
          "Year": 2018
         },
         {
          "Chat_TouchPoints": 0.11,
          "Date": "2018-01",
          "Email_TouchPoints": 0.38,
          "Month": "Jan",
          "Phone_TouchPoints": 0.33999999999999997,
          "Total": 0.83,
          "Year": 2018
         },
         {
          "Chat_TouchPoints": 0.18,
          "Date": "2018-01",
          "Email_TouchPoints": 0.30000000000000004,
          "Month": "Jan",
          "Phone_TouchPoints": 0.24,
          "Total": 0.72,
          "Year": 2018
         },
         {
          "Chat_TouchPoints": 0.17,
          "Date": "2018-05",
          "Email_TouchPoints": 0.28,
          "Month": "May",
          "Phone_TouchPoints": 0.23,
          "Total": 0.68,
          "Year": 2018
         },
         {
          "Chat_TouchPoints": 0.17,
          "Date": "2018-05",
          "Email_TouchPoints": 0.29000000000000004,
          "Month": "May",
          "Phone_TouchPoints": 0.29000000000000004,
          "Total": 0.7500000000000001,
          "Year": 2018
         },
         {
          "Chat_TouchPoints": 0.14,
          "Date": "2018-05",
          "Email_TouchPoints": 0.30000000000000004,
          "Month": "May",
          "Phone_TouchPoints": 0.28,
          "Total": 0.7200000000000001,
          "Year": 2018
         },
         {
          "Chat_TouchPoints": 0.14,
          "Date": "2018-05",
          "Email_TouchPoints": 0.35,
          "Month": "May",
          "Phone_TouchPoints": 0.30000000000000004,
          "Total": 0.79,
          "Year": 2018
         },
         {
          "Chat_TouchPoints": 0.11,
          "Date": "2018-05",
          "Email_TouchPoints": 0.31999999999999995,
          "Month": "May",
          "Phone_TouchPoints": 0.30000000000000004,
          "Total": 0.73,
          "Year": 2018
         },
         {
          "Chat_TouchPoints": 0.12,
          "Date": "2018-10",
          "Email_TouchPoints": 0.31000000000000005,
          "Month": "Oct",
          "Phone_TouchPoints": 0.29000000000000004,
          "Total": 0.7200000000000001,
          "Year": 2018
         },
         {
          "Chat_TouchPoints": 0.11,
          "Date": "2018-10",
          "Email_TouchPoints": 0.41000000000000003,
          "Month": "Oct",
          "Phone_TouchPoints": 0.29000000000000004,
          "Total": 0.81,
          "Year": 2018
         },
         {
          "Chat_TouchPoints": 0.15,
          "Date": "2018-10",
          "Email_TouchPoints": 0.54,
          "Month": "Oct",
          "Phone_TouchPoints": 0.38,
          "Total": 1.07,
          "Year": 2018
         },
         {
          "Chat_TouchPoints": 0.16,
          "Date": "2018-10",
          "Email_TouchPoints": 0.5800000000000001,
          "Month": "Oct",
          "Phone_TouchPoints": 0.44999999999999996,
          "Total": 1.19,
          "Year": 2018
         },
         {
          "Chat_TouchPoints": 0.13,
          "Date": "2018-10",
          "Email_TouchPoints": 0.38,
          "Month": "Oct",
          "Phone_TouchPoints": 0.31999999999999995,
          "Total": 0.83,
          "Year": 2018
         },
         {
          "Chat_TouchPoints": 0.13,
          "Date": "2019-03",
          "Email_TouchPoints": 0.38,
          "Month": "Mar",
          "Phone_TouchPoints": 0.31000000000000005,
          "Total": 0.8200000000000001,
          "Year": 2019
         },
         {
          "Chat_TouchPoints": 0.15,
          "Date": "2019-03",
          "Email_TouchPoints": 0.33999999999999997,
          "Month": "Mar",
          "Phone_TouchPoints": 0.25,
          "Total": 0.74,
          "Year": 2019
         },
         {
          "Chat_TouchPoints": 0.2,
          "Date": "2019-03",
          "Email_TouchPoints": 0.33999999999999997,
          "Month": "Mar",
          "Phone_TouchPoints": 0.26,
          "Total": 0.8,
          "Year": 2019
         },
         {
          "Chat_TouchPoints": 0.2,
          "Date": "2019-03",
          "Email_TouchPoints": 0.33999999999999997,
          "Month": "Mar",
          "Phone_TouchPoints": 0.26,
          "Total": 0.8,
          "Year": 2019
         },
         {
          "Chat_TouchPoints": 0.15,
          "Date": "2019-03",
          "Email_TouchPoints": 0.33999999999999997,
          "Month": "Mar",
          "Phone_TouchPoints": 0.25,
          "Total": 0.74,
          "Year": 2019
         },
         {
          "Chat_TouchPoints": 0.16,
          "Date": "2018-08",
          "Email_TouchPoints": 0.32999999999999996,
          "Month": "Aug",
          "Phone_TouchPoints": 0.28,
          "Total": 0.77,
          "Year": 2018
         },
         {
          "Chat_TouchPoints": 0.17,
          "Date": "2018-08",
          "Email_TouchPoints": 0.31999999999999995,
          "Month": "Aug",
          "Phone_TouchPoints": 0.24,
          "Total": 0.73,
          "Year": 2018
         },
         {
          "Chat_TouchPoints": 0.17,
          "Date": "2018-08",
          "Email_TouchPoints": 0.33999999999999997,
          "Month": "Aug",
          "Phone_TouchPoints": 0.24,
          "Total": 0.75,
          "Year": 2018
         },
         {
          "Chat_TouchPoints": 0.18,
          "Date": "2018-08",
          "Email_TouchPoints": 0.36,
          "Month": "Aug",
          "Phone_TouchPoints": 0.25,
          "Total": 0.79,
          "Year": 2018
         },
         {
          "Chat_TouchPoints": 0.18,
          "Date": "2018-08",
          "Email_TouchPoints": 0.53,
          "Month": "Aug",
          "Phone_TouchPoints": 0.32999999999999996,
          "Total": 1.04,
          "Year": 2018
         },
         {
          "Chat_TouchPoints": 0.26,
          "Date": "2020-01",
          "Email_TouchPoints": 0.5,
          "Month": "Jan",
          "Phone_TouchPoints": 0.34,
          "Total": 1.1,
          "Year": 2020
         }
        ]
       },
       "encoding": {
        "color": {
         "field": "key",
         "type": "nominal"
        },
        "x": {
         "field": "Date",
         "type": "nominal"
        },
        "y": {
         "aggregate": "sum",
         "field": "value",
         "type": "quantitative"
        }
       },
       "mark": "bar",
       "transform": [
        {
         "fold": [
          "Phone_TouchPoints",
          "Chat_TouchPoints",
          "Email_TouchPoints"
         ]
        }
       ]
      },
      "image/png": "[encoded data removed]",
      "text/plain": [
       "<VegaLite 3 object>\n",
       "\n",
       "If you see this message, it means the renderer has not been properly enabled\n",
       "for the frontend that you are using. For more information, see\n",
       "https://altair-viz.github.io/user_guide/troubleshooting.html\n"
      ]
     },
     "execution_count": 42,
     "metadata": {},
     "output_type": "execute_result"
    }
   ],
   "source": [
    "alt.Chart(df).mark_bar().transform_fold(\n",
    "    ['Phone_TouchPoints', 'Chat_TouchPoints', 'Email_TouchPoints'],\n",
    ").encode(\n",
    "    x=alt.X('Date'),\n",
    "    y='sum(value):Q',\n",
    "    color='key:N'\n",
    ")"
   ]
  },
  {
   "cell_type": "code",
   "execution_count": 9,
   "metadata": {},
   "outputs": [
    {
     "name": "stderr",
     "output_type": "stream",
     "text": [
      "\n",
      "                                   |                         | [  0%]   00:00  -> (? left)\u001b[A\n",
      "Summarizing dataframe:             |                         | [  0%]   00:00  -> (? left)\u001b[A\n",
      ":Date:                             |███████              | [ 33%]   00:00  -> (00:00 left)\u001b[A\n",
      ":Date:                             |██████████▌          | [ 50%]   00:00  -> (00:00 left)\u001b[A\n",
      ":Phone_Touchpoints:                |██████████▌          | [ 50%]   00:00  -> (00:00 left)\u001b[A\n",
      ":Phone_Touchpoints:                |██████████████       | [ 67%]   00:00  -> (00:00 left)\u001b[A\n",
      ":Chat_Touchpoints:                 |██████████████       | [ 67%]   00:00  -> (00:00 left)\u001b[A\n",
      ":Chat_Touchpoints:                 |█████████████████▌   | [ 83%]   00:01  -> (00:00 left)\u001b[A\n",
      ":Email_Touchpoints:                |█████████████████▌   | [ 83%]   00:01  -> (00:00 left)\u001b[A\n",
      ":Email_Touchpoints:                |█████████████████████| [100%]   00:01  -> (00:00 left)\u001b[A\n",
      ":Total:                            |█████████████████████| [100%]   00:01  -> (00:00 left)\u001b[A\n",
      ":Total:                            |                     | [  0%]   00:01  -> (00:00 left)\u001b[A\n",
      ":FEATURES DONE:                    |                     | [  0%]   00:01  -> (00:00 left)\u001b[A\n",
      "\n",
      "                                   |                         | [  0%]   00:00  -> (? left)\u001b[A\n",
      ":Processing Pairwise Features:     |                         | [  0%]   00:00  -> (? left)\u001b[A\n",
      ":PAIRWISE DONE:                    |█████████████████████| [100%]   00:00  -> (00:00 left)\u001b[A\n"
     ]
    },
    {
     "name": "stdout",
     "output_type": "stream",
     "text": [
      "Creating Associations graph... DONE!\n"
     ]
    }
   ],
   "source": [
    "sweetviz_eda=sv.analyze(df)\n",
    "sweetviz_eda.show_html()"
   ]
  },
  {
   "cell_type": "code",
   "execution_count": 8,
   "metadata": {},
   "outputs": [
    {
     "name": "stderr",
     "output_type": "stream",
     "text": [
      "\n",
      "                                   |                         | [  0%]   00:00  -> (? left)\u001b[A\n",
      "Summarizing dataframe:             |                         | [  0%]   00:00  -> (? left)\u001b[A\n",
      ":TARGET::                          |███▌                 | [ 17%]   00:00  -> (00:00 left)\u001b[A\n",
      ":TARGET::                          |███████              | [ 33%]   00:00  -> (00:01 left)\u001b[A\n",
      ":Date:                             |███████              | [ 33%]   00:00  -> (00:01 left)\u001b[A\n",
      ":Date:                             |██████████▌          | [ 50%]   00:00  -> (00:00 left)\u001b[A\n",
      ":Phone_Touchpoints:                |██████████▌          | [ 50%]   00:00  -> (00:00 left)\u001b[A\n",
      ":Phone_Touchpoints:                |██████████████       | [ 67%]   00:01  -> (00:00 left)\u001b[A\n",
      ":Chat_Touchpoints:                 |██████████████       | [ 67%]   00:01  -> (00:00 left)\u001b[A\n",
      ":Chat_Touchpoints:                 |█████████████████▌   | [ 83%]   00:01  -> (00:00 left)\u001b[A\n",
      ":Total:                            |█████████████████▌   | [ 83%]   00:01  -> (00:00 left)\u001b[A\n",
      ":Total:                            |█████████████████████| [100%]   00:02  -> (00:00 left)\u001b[A\n",
      ":FEATURES DONE:                    |█████████████████████| [100%]   00:02  -> (00:00 left)\u001b[A\n",
      "\n",
      "                                   |                         | [  0%]   00:00  -> (? left)\u001b[A\n",
      ":Processing Pairwise Features:     |                         | [  0%]   00:00  -> (? left)\u001b[A\n",
      ":PAIRWISE DONE:                    |█████████████████████| [100%]   00:00  -> (00:00 left)\u001b[A\n"
     ]
    },
    {
     "name": "stdout",
     "output_type": "stream",
     "text": [
      "Creating Associations graph... DONE!\n"
     ]
    }
   ],
   "source": [
    "eda=sv.analyze([df,\"Data\"],target_feat='Email_Touchpoints')\n",
    "eda.show_html()"
   ]
  },
  {
   "cell_type": "code",
   "execution_count": null,
   "metadata": {},
   "outputs": [],
   "source": []
  }
 ],
 "metadata": {
  "kernelspec": {
   "display_name": "Python 3",
   "language": "python",
   "name": "python3"
  },
  "language_info": {
   "codemirror_mode": {
    "name": "ipython",
    "version": 3
   },
   "file_extension": ".py",
   "mimetype": "text/x-python",
   "name": "python",
   "nbconvert_exporter": "python",
   "pygments_lexer": "ipython3",
   "version": "3.7.4"
  }
 },
 "nbformat": 4,
 "nbformat_minor": 4
}
